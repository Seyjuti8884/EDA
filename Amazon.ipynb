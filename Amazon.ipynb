{
  "nbformat": 4,
  "nbformat_minor": 0,
  "metadata": {
    "colab": {
      "provenance": [],
      "authorship_tag": "ABX9TyMHgs3cNnFoG9lUUxjQ/azd",
      "include_colab_link": true
    },
    "kernelspec": {
      "name": "python3",
      "display_name": "Python 3"
    },
    "language_info": {
      "name": "python"
    }
  },
  "cells": [
    {
      "cell_type": "markdown",
      "metadata": {
        "id": "view-in-github",
        "colab_type": "text"
      },
      "source": [
        "<a href=\"https://colab.research.google.com/github/Seyjuti8884/EDA/blob/main/Amazon.ipynb\" target=\"_parent\"><img src=\"https://colab.research.google.com/assets/colab-badge.svg\" alt=\"Open In Colab\"/></a>"
      ]
    },
    {
      "cell_type": "code",
      "execution_count": 5,
      "metadata": {
        "id": "8RlSQAHRklsD"
      },
      "outputs": [],
      "source": [
        "import pandas as pd\n",
        "import numpy as np\n",
        "import seaborn as sns\n",
        "import matplotlib.pyplot as plt\n"
      ]
    },
    {
      "cell_type": "code",
      "source": [
        "df = pd.read_csv(\"amazon.csv\")"
      ],
      "metadata": {
        "id": "HNOUzFRqmfwG"
      },
      "execution_count": 6,
      "outputs": []
    },
    {
      "cell_type": "code",
      "source": [
        "df.info()"
      ],
      "metadata": {
        "colab": {
          "base_uri": "https://localhost:8080/"
        },
        "id": "CfR0HdaMnLOp",
        "outputId": "5fe3360f-2a22-472f-eb07-8c338378ea26"
      },
      "execution_count": 7,
      "outputs": [
        {
          "output_type": "stream",
          "name": "stdout",
          "text": [
            "<class 'pandas.core.frame.DataFrame'>\n",
            "RangeIndex: 1465 entries, 0 to 1464\n",
            "Data columns (total 16 columns):\n",
            " #   Column               Non-Null Count  Dtype \n",
            "---  ------               --------------  ----- \n",
            " 0   product_id           1465 non-null   object\n",
            " 1   product_name         1465 non-null   object\n",
            " 2   category             1465 non-null   object\n",
            " 3   discounted_price     1465 non-null   object\n",
            " 4   actual_price         1465 non-null   object\n",
            " 5   discount_percentage  1465 non-null   object\n",
            " 6   rating               1465 non-null   object\n",
            " 7   rating_count         1463 non-null   object\n",
            " 8   about_product        1465 non-null   object\n",
            " 9   user_id              1465 non-null   object\n",
            " 10  user_name            1465 non-null   object\n",
            " 11  review_id            1465 non-null   object\n",
            " 12  review_title         1465 non-null   object\n",
            " 13  review_content       1465 non-null   object\n",
            " 14  img_link             1465 non-null   object\n",
            " 15  product_link         1465 non-null   object\n",
            "dtypes: object(16)\n",
            "memory usage: 183.2+ KB\n"
          ]
        }
      ]
    },
    {
      "cell_type": "code",
      "source": [
        "df.isnull().sum()"
      ],
      "metadata": {
        "colab": {
          "base_uri": "https://localhost:8080/",
          "height": 585
        },
        "id": "naXQoiQenSMU",
        "outputId": "5259babb-f492-40cf-d3bc-57dace864917"
      },
      "execution_count": 8,
      "outputs": [
        {
          "output_type": "execute_result",
          "data": {
            "text/plain": [
              "product_id             0\n",
              "product_name           0\n",
              "category               0\n",
              "discounted_price       0\n",
              "actual_price           0\n",
              "discount_percentage    0\n",
              "rating                 0\n",
              "rating_count           2\n",
              "about_product          0\n",
              "user_id                0\n",
              "user_name              0\n",
              "review_id              0\n",
              "review_title           0\n",
              "review_content         0\n",
              "img_link               0\n",
              "product_link           0\n",
              "dtype: int64"
            ],
            "text/html": [
              "<div>\n",
              "<style scoped>\n",
              "    .dataframe tbody tr th:only-of-type {\n",
              "        vertical-align: middle;\n",
              "    }\n",
              "\n",
              "    .dataframe tbody tr th {\n",
              "        vertical-align: top;\n",
              "    }\n",
              "\n",
              "    .dataframe thead th {\n",
              "        text-align: right;\n",
              "    }\n",
              "</style>\n",
              "<table border=\"1\" class=\"dataframe\">\n",
              "  <thead>\n",
              "    <tr style=\"text-align: right;\">\n",
              "      <th></th>\n",
              "      <th>0</th>\n",
              "    </tr>\n",
              "  </thead>\n",
              "  <tbody>\n",
              "    <tr>\n",
              "      <th>product_id</th>\n",
              "      <td>0</td>\n",
              "    </tr>\n",
              "    <tr>\n",
              "      <th>product_name</th>\n",
              "      <td>0</td>\n",
              "    </tr>\n",
              "    <tr>\n",
              "      <th>category</th>\n",
              "      <td>0</td>\n",
              "    </tr>\n",
              "    <tr>\n",
              "      <th>discounted_price</th>\n",
              "      <td>0</td>\n",
              "    </tr>\n",
              "    <tr>\n",
              "      <th>actual_price</th>\n",
              "      <td>0</td>\n",
              "    </tr>\n",
              "    <tr>\n",
              "      <th>discount_percentage</th>\n",
              "      <td>0</td>\n",
              "    </tr>\n",
              "    <tr>\n",
              "      <th>rating</th>\n",
              "      <td>0</td>\n",
              "    </tr>\n",
              "    <tr>\n",
              "      <th>rating_count</th>\n",
              "      <td>2</td>\n",
              "    </tr>\n",
              "    <tr>\n",
              "      <th>about_product</th>\n",
              "      <td>0</td>\n",
              "    </tr>\n",
              "    <tr>\n",
              "      <th>user_id</th>\n",
              "      <td>0</td>\n",
              "    </tr>\n",
              "    <tr>\n",
              "      <th>user_name</th>\n",
              "      <td>0</td>\n",
              "    </tr>\n",
              "    <tr>\n",
              "      <th>review_id</th>\n",
              "      <td>0</td>\n",
              "    </tr>\n",
              "    <tr>\n",
              "      <th>review_title</th>\n",
              "      <td>0</td>\n",
              "    </tr>\n",
              "    <tr>\n",
              "      <th>review_content</th>\n",
              "      <td>0</td>\n",
              "    </tr>\n",
              "    <tr>\n",
              "      <th>img_link</th>\n",
              "      <td>0</td>\n",
              "    </tr>\n",
              "    <tr>\n",
              "      <th>product_link</th>\n",
              "      <td>0</td>\n",
              "    </tr>\n",
              "  </tbody>\n",
              "</table>\n",
              "</div><br><label><b>dtype:</b> int64</label>"
            ]
          },
          "metadata": {},
          "execution_count": 8
        }
      ]
    },
    {
      "cell_type": "code",
      "source": [
        "df.fillna(\"0\",inplace = True)"
      ],
      "metadata": {
        "id": "1pu7z5_Vo7av"
      },
      "execution_count": 9,
      "outputs": []
    },
    {
      "cell_type": "code",
      "source": [
        "df.isnull().sum()"
      ],
      "metadata": {
        "colab": {
          "base_uri": "https://localhost:8080/",
          "height": 585
        },
        "id": "in2i7pGtpC2m",
        "outputId": "b2d160ea-7be9-44cb-c937-96b2f2570679"
      },
      "execution_count": 10,
      "outputs": [
        {
          "output_type": "execute_result",
          "data": {
            "text/plain": [
              "product_id             0\n",
              "product_name           0\n",
              "category               0\n",
              "discounted_price       0\n",
              "actual_price           0\n",
              "discount_percentage    0\n",
              "rating                 0\n",
              "rating_count           0\n",
              "about_product          0\n",
              "user_id                0\n",
              "user_name              0\n",
              "review_id              0\n",
              "review_title           0\n",
              "review_content         0\n",
              "img_link               0\n",
              "product_link           0\n",
              "dtype: int64"
            ],
            "text/html": [
              "<div>\n",
              "<style scoped>\n",
              "    .dataframe tbody tr th:only-of-type {\n",
              "        vertical-align: middle;\n",
              "    }\n",
              "\n",
              "    .dataframe tbody tr th {\n",
              "        vertical-align: top;\n",
              "    }\n",
              "\n",
              "    .dataframe thead th {\n",
              "        text-align: right;\n",
              "    }\n",
              "</style>\n",
              "<table border=\"1\" class=\"dataframe\">\n",
              "  <thead>\n",
              "    <tr style=\"text-align: right;\">\n",
              "      <th></th>\n",
              "      <th>0</th>\n",
              "    </tr>\n",
              "  </thead>\n",
              "  <tbody>\n",
              "    <tr>\n",
              "      <th>product_id</th>\n",
              "      <td>0</td>\n",
              "    </tr>\n",
              "    <tr>\n",
              "      <th>product_name</th>\n",
              "      <td>0</td>\n",
              "    </tr>\n",
              "    <tr>\n",
              "      <th>category</th>\n",
              "      <td>0</td>\n",
              "    </tr>\n",
              "    <tr>\n",
              "      <th>discounted_price</th>\n",
              "      <td>0</td>\n",
              "    </tr>\n",
              "    <tr>\n",
              "      <th>actual_price</th>\n",
              "      <td>0</td>\n",
              "    </tr>\n",
              "    <tr>\n",
              "      <th>discount_percentage</th>\n",
              "      <td>0</td>\n",
              "    </tr>\n",
              "    <tr>\n",
              "      <th>rating</th>\n",
              "      <td>0</td>\n",
              "    </tr>\n",
              "    <tr>\n",
              "      <th>rating_count</th>\n",
              "      <td>0</td>\n",
              "    </tr>\n",
              "    <tr>\n",
              "      <th>about_product</th>\n",
              "      <td>0</td>\n",
              "    </tr>\n",
              "    <tr>\n",
              "      <th>user_id</th>\n",
              "      <td>0</td>\n",
              "    </tr>\n",
              "    <tr>\n",
              "      <th>user_name</th>\n",
              "      <td>0</td>\n",
              "    </tr>\n",
              "    <tr>\n",
              "      <th>review_id</th>\n",
              "      <td>0</td>\n",
              "    </tr>\n",
              "    <tr>\n",
              "      <th>review_title</th>\n",
              "      <td>0</td>\n",
              "    </tr>\n",
              "    <tr>\n",
              "      <th>review_content</th>\n",
              "      <td>0</td>\n",
              "    </tr>\n",
              "    <tr>\n",
              "      <th>img_link</th>\n",
              "      <td>0</td>\n",
              "    </tr>\n",
              "    <tr>\n",
              "      <th>product_link</th>\n",
              "      <td>0</td>\n",
              "    </tr>\n",
              "  </tbody>\n",
              "</table>\n",
              "</div><br><label><b>dtype:</b> int64</label>"
            ]
          },
          "metadata": {},
          "execution_count": 10
        }
      ]
    },
    {
      "cell_type": "markdown",
      "source": [
        "3. Distribution of Discounted Prices vs Actual Prices"
      ],
      "metadata": {
        "id": "4uKhcDLlpxW3"
      }
    },
    {
      "cell_type": "code",
      "source": [
        "import matplotlib.pyplot as plt\n",
        "\n",
        "plt.figure(figsize=(10, 6))\n",
        "plt.hist(amazon_data_cleaned['discounted_price'], bins=20, alpha=0.7, label='Discounted Price')\n",
        "plt.hist(amazon_data_cleaned['actual_price'], bins=20, alpha=0.7, label='Actual Price')\n",
        "plt.title('Distribution of Discounted vs Actual Prices', fontsize=16)\n",
        "plt.xlabel('Price', fontsize=14)\n",
        "plt.ylabel('Frequency', fontsize=14)\n",
        "plt.legend()\n",
        "plt.show()\n"
      ],
      "metadata": {
        "id": "2Xw81RV4p0I6"
      },
      "execution_count": null,
      "outputs": []
    },
    {
      "cell_type": "markdown",
      "source": [
        "4. Average Discount Percentage Across Categories"
      ],
      "metadata": {
        "id": "pqzGxd41rrry"
      }
    },
    {
      "cell_type": "code",
      "source": [
        "df['discount_percentage'] = pd.to_numeric(df['discount_percentage'], errors='coerce')\n",
        "\n",
        "# Calculate average discount percentage by category\n",
        "df_cleaned_discount = df.dropna(subset=['category', 'discount_percentage'])\n",
        "if not df_cleaned_discount.empty:\n",
        "    average_discount_by_category = df_cleaned_discount.groupby('category')['discount_percentage'].mean()\n",
        "    print(\"\\nAverage Discount Percentage by Category:\")\n",
        "    print(average_discount_by_category)\n",
        "else:\n",
        "    print(\"\\nNo valid data available for discount percentage calculations.\")"
      ],
      "metadata": {
        "id": "Q_KQFxcErvxb"
      },
      "execution_count": null,
      "outputs": []
    },
    {
      "cell_type": "markdown",
      "source": [
        "5. Most Popular Product Names"
      ],
      "metadata": {
        "id": "bKkYwDJBr1G3"
      }
    },
    {
      "cell_type": "code",
      "source": [
        "df_cleaned_names = df.dropna(subset=['product_name'])\n",
        "\n",
        "# Find top 5 most popular product names\n",
        "if not df_cleaned_names.empty:\n",
        "    popular_products = df_cleaned_names['product_name'].value_counts().head(5)\n",
        "    print(\"\\nMost Popular Product Names:\")\n",
        "    print(popular_products)\n",
        "else:\n",
        "    print(\"\\nNo valid data available for product name calculations.\")"
      ],
      "metadata": {
        "id": "wrAZujDRr3kY"
      },
      "execution_count": null,
      "outputs": []
    },
    {
      "cell_type": "markdown",
      "source": [
        "6. Most Popular Product Keywords"
      ],
      "metadata": {
        "id": "5q2hqhedshAc"
      }
    },
    {
      "cell_type": "code",
      "source": [
        "from collections import Counter\n",
        "\n",
        "keywords = df['product_name'].str.split().explode().value_counts()\n",
        "print(\"Most Popular Product Keywords:\")\n",
        "print(keywords.head(10))\n"
      ],
      "metadata": {
        "id": "SGTTsIjXsk1d"
      },
      "execution_count": null,
      "outputs": []
    },
    {
      "cell_type": "markdown",
      "source": [
        "7. Most Popular Product Reviews"
      ],
      "metadata": {
        "id": "260-DvQtssPS"
      }
    },
    {
      "cell_type": "code",
      "source": [
        "popular_reviews = df['review_content'].value_counts().head(5)\n",
        "print(\"Most Popular Product Reviews:\")\n",
        "print(popular_reviews)\n"
      ],
      "metadata": {
        "id": "ilgZu0oZsuR0"
      },
      "execution_count": null,
      "outputs": []
    },
    {
      "cell_type": "markdown",
      "source": [
        "8. Correlation Between Discounted Price and Rating"
      ],
      "metadata": {
        "id": "PyfVg2p7syaX"
      }
    },
    {
      "cell_type": "code",
      "source": [
        "correlation = df[['discounted_price', 'rating']].corr()\n",
        "print(\"Correlation Between Discounted Price and Rating:\")\n",
        "print(correlation)\n",
        "\n",
        "sns.scatterplot(x='discounted_price', y='rating', data=df)\n",
        "plt.title(\"Discounted Price vs Rating\")\n",
        "plt.xlabel(\"Discounted Price\")\n",
        "plt.ylabel(\"Rating\")\n",
        "plt.show()\n"
      ],
      "metadata": {
        "id": "7jEF5jxFszhR"
      },
      "execution_count": null,
      "outputs": []
    },
    {
      "cell_type": "markdown",
      "source": [
        "9. Top 5 Categories Based on Highest Ratings"
      ],
      "metadata": {
        "id": "Y7LtbsU8s69p"
      }
    },
    {
      "cell_type": "code",
      "source": [
        "top_categories_by_rating = df.groupby('category')['rating'].mean().sort_values(ascending=False).head(5)\n",
        "print(\"Top 5 Categories Based on Highest Ratings:\")\n",
        "print(top_categories_by_rating)\n"
      ],
      "metadata": {
        "id": "kVUjHYbWs8Ee"
      },
      "execution_count": null,
      "outputs": []
    },
    {
      "cell_type": "markdown",
      "source": [
        "10. Potential Areas for Improvement"
      ],
      "metadata": {
        "id": "tfTNshFls-QT"
      }
    },
    {
      "cell_type": "code",
      "source": [
        "# Identifying categories with the lowest average ratings\n",
        "lowest_rated_categories = df.groupby('category')['rating'].mean().sort_values().head(5)\n",
        "\n",
        "# Products with high discounts but low ratings\n",
        "low_rating_high_discount = df[(df['rating'] < 3) & (df['discount_percentage'] > 50)]\n",
        "\n",
        "print(\"Lowest Rated Categories:\")\n",
        "print(lowest_rated_categories)\n",
        "\n",
        "print(\"\\nProducts with High Discounts but Low Ratings:\")\n",
        "print(low_rating_high_discount[['product_name', 'category', 'rating', 'discount_percentage']])\n"
      ],
      "metadata": {
        "id": "Ncp6rXnetA_y"
      },
      "execution_count": null,
      "outputs": []
    }
  ]
}